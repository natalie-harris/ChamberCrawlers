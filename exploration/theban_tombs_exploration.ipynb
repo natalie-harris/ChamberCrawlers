{
 "cells": [
  {
   "cell_type": "markdown",
   "metadata": {},
   "source": [
    "# Exploration of collected data"
   ]
  },
  {
   "cell_type": "code",
   "execution_count": 1,
   "metadata": {},
   "outputs": [],
   "source": [
    "import matplotlib as plt\n",
    "import pandas as pd"
   ]
  },
  {
   "cell_type": "markdown",
   "metadata": {},
   "source": [
    "## Theban Tomb Data Collected From OLGIS-TN (Online Geographical Information System for the Theban Necropolis)"
   ]
  },
  {
   "cell_type": "code",
   "execution_count": 5,
   "metadata": {},
   "outputs": [
    {
     "data": {
      "text/plain": [
       "array(['SAQ Upper Enclosure', 'SAQ Plain', 'Asasif (west)', 'el-Khokha',\n",
       "       'Asasif (east)', 'Asasif', 'Asasif (Nimsawy)',\n",
       "       'SAQ Lower Enclosure', 'Qurnet Murai', 'Deir el-Bahari',\n",
       "       'Qurnah reverse slope', 'Qurnah South', 'SAQ Plain (north)',\n",
       "       'el-Khokha/Asasif', 'el-Khoka'], dtype=object)"
      ]
     },
     "execution_count": 5,
     "metadata": {},
     "output_type": "execute_result"
    }
   ],
   "source": [
    "theban_tombs_file_path = \"../data/All Theban Tombs.csv\"\n",
    "theban_tombs_data = pd.read_csv(theban_tombs_file_path)\n",
    "theban_tombs_data[\"Location\"].unique()"
   ]
  },
  {
   "cell_type": "code",
   "execution_count": null,
   "metadata": {},
   "outputs": [],
   "source": []
  }
 ],
 "metadata": {
  "kernelspec": {
   "display_name": ".venv",
   "language": "python",
   "name": "python3"
  },
  "language_info": {
   "codemirror_mode": {
    "name": "ipython",
    "version": 3
   },
   "file_extension": ".py",
   "mimetype": "text/x-python",
   "name": "python",
   "nbconvert_exporter": "python",
   "pygments_lexer": "ipython3",
   "version": "3.10.15"
  }
 },
 "nbformat": 4,
 "nbformat_minor": 2
}
